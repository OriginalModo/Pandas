{
 "cells": [
  {
   "cell_type": "code",
   "execution_count": 135,
   "outputs": [],
   "source": [
    "import pandas as pd\n",
    "from random import randint\n",
    "from faker import Faker"
   ],
   "metadata": {
    "collapsed": false
   }
  },
  {
   "cell_type": "code",
   "execution_count": 136,
   "outputs": [],
   "source": [
    "fake = Faker()\n",
    "numbers = [randint(-50, 50) for i in range(15)]\n",
    "names = [fake.name() for i in range(15)]\n",
    "dates = [fake.date() for i in range(15)]"
   ],
   "metadata": {
    "collapsed": false
   }
  },
  {
   "cell_type": "code",
   "execution_count": 137,
   "outputs": [],
   "source": [
    "a = pd.Series(numbers, index=dates)"
   ],
   "metadata": {
    "collapsed": false
   }
  },
  {
   "cell_type": "code",
   "execution_count": 138,
   "outputs": [
    {
     "data": {
      "text/plain": "['1998-01-28',\n '1984-02-15',\n '1984-05-29',\n '1992-04-17',\n '2014-06-09',\n '2013-03-13',\n '1986-08-25',\n '2017-05-02',\n '1982-02-15',\n '1973-07-18',\n '1999-12-30',\n '1970-09-28',\n '2020-07-22',\n '1975-12-14',\n '1984-04-09']"
     },
     "execution_count": 138,
     "metadata": {},
     "output_type": "execute_result"
    }
   ],
   "source": [
    "dates"
   ],
   "metadata": {
    "collapsed": false
   }
  },
  {
   "cell_type": "code",
   "execution_count": 139,
   "outputs": [
    {
     "data": {
      "text/plain": "2020-07-22    47\n2017-05-02   -30\n2014-06-09     4\n2013-03-13     3\n1999-12-30   -24\n1998-01-28    21\n1992-04-17   -48\n1986-08-25   -12\n1984-05-29     5\n1984-04-09    11\n1984-02-15     6\n1982-02-15   -25\n1975-12-14    -3\n1973-07-18    47\n1970-09-28    48\ndtype: int64"
     },
     "execution_count": 139,
     "metadata": {},
     "output_type": "execute_result"
    }
   ],
   "source": [
    "a.sort_index(ascending=False)"
   ],
   "metadata": {
    "collapsed": false
   }
  },
  {
   "cell_type": "code",
   "execution_count": 140,
   "outputs": [
    {
     "data": {
      "text/plain": "2020-07-22    47\n2017-05-02   -30\n2014-06-09     4\n2013-03-13     3\n1999-12-30   -24\n1998-01-28    21\n1992-04-17   -48\n1986-08-25   -12\n1984-05-29     5\n1984-04-09    11\n1984-02-15     6\n1982-02-15   -25\n1975-12-14    -3\n1973-07-18    47\n1970-09-28    48\ndtype: int64"
     },
     "execution_count": 140,
     "metadata": {},
     "output_type": "execute_result"
    }
   ],
   "source": [
    "a.sort_index(ascending=False)"
   ],
   "metadata": {
    "collapsed": false
   }
  },
  {
   "cell_type": "code",
   "execution_count": 140,
   "outputs": [],
   "source": [],
   "metadata": {
    "collapsed": false
   }
  }
 ],
 "metadata": {
  "kernelspec": {
   "display_name": "Python 3",
   "language": "python",
   "name": "python3"
  },
  "language_info": {
   "codemirror_mode": {
    "name": "ipython",
    "version": 2
   },
   "file_extension": ".py",
   "mimetype": "text/x-python",
   "name": "python",
   "nbconvert_exporter": "python",
   "pygments_lexer": "ipython2",
   "version": "2.7.6"
  }
 },
 "nbformat": 4,
 "nbformat_minor": 0
}
