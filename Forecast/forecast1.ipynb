{
 "cells": [
  {
   "cell_type": "code",
   "execution_count": 41,
   "metadata": {
    "collapsed": true
   },
   "outputs": [
    {
     "data": {
      "text/plain": "            DT       ТО_НДС\n0   2023-04-01  25169364.54\n1   2023-04-02  21521028.50\n2   2023-04-03  13814550.97\n3   2023-04-04  14480259.59\n4   2023-04-05  15476963.72\n5   2023-04-06  17159637.46\n6   2023-04-07  20067718.12\n7   2023-04-08  23561023.74\n8   2023-04-09  20796828.96\n9   2023-04-10  15358356.79\n10  2023-04-11  15751239.43\n11  2023-04-12  16728365.75\n12  2023-04-13  18108535.10\n13  2023-04-14  22009678.94\n14  2023-04-15  24114469.42\n15  2023-04-16  16630633.81",
      "text/html": "<div>\n<style scoped>\n    .dataframe tbody tr th:only-of-type {\n        vertical-align: middle;\n    }\n\n    .dataframe tbody tr th {\n        vertical-align: top;\n    }\n\n    .dataframe thead th {\n        text-align: right;\n    }\n</style>\n<table border=\"1\" class=\"dataframe\">\n  <thead>\n    <tr style=\"text-align: right;\">\n      <th></th>\n      <th>DT</th>\n      <th>ТО_НДС</th>\n    </tr>\n  </thead>\n  <tbody>\n    <tr>\n      <th>0</th>\n      <td>2023-04-01</td>\n      <td>25169364.54</td>\n    </tr>\n    <tr>\n      <th>1</th>\n      <td>2023-04-02</td>\n      <td>21521028.50</td>\n    </tr>\n    <tr>\n      <th>2</th>\n      <td>2023-04-03</td>\n      <td>13814550.97</td>\n    </tr>\n    <tr>\n      <th>3</th>\n      <td>2023-04-04</td>\n      <td>14480259.59</td>\n    </tr>\n    <tr>\n      <th>4</th>\n      <td>2023-04-05</td>\n      <td>15476963.72</td>\n    </tr>\n    <tr>\n      <th>5</th>\n      <td>2023-04-06</td>\n      <td>17159637.46</td>\n    </tr>\n    <tr>\n      <th>6</th>\n      <td>2023-04-07</td>\n      <td>20067718.12</td>\n    </tr>\n    <tr>\n      <th>7</th>\n      <td>2023-04-08</td>\n      <td>23561023.74</td>\n    </tr>\n    <tr>\n      <th>8</th>\n      <td>2023-04-09</td>\n      <td>20796828.96</td>\n    </tr>\n    <tr>\n      <th>9</th>\n      <td>2023-04-10</td>\n      <td>15358356.79</td>\n    </tr>\n    <tr>\n      <th>10</th>\n      <td>2023-04-11</td>\n      <td>15751239.43</td>\n    </tr>\n    <tr>\n      <th>11</th>\n      <td>2023-04-12</td>\n      <td>16728365.75</td>\n    </tr>\n    <tr>\n      <th>12</th>\n      <td>2023-04-13</td>\n      <td>18108535.10</td>\n    </tr>\n    <tr>\n      <th>13</th>\n      <td>2023-04-14</td>\n      <td>22009678.94</td>\n    </tr>\n    <tr>\n      <th>14</th>\n      <td>2023-04-15</td>\n      <td>24114469.42</td>\n    </tr>\n    <tr>\n      <th>15</th>\n      <td>2023-04-16</td>\n      <td>16630633.81</td>\n    </tr>\n  </tbody>\n</table>\n</div>"
     },
     "execution_count": 41,
     "metadata": {},
     "output_type": "execute_result"
    }
   ],
   "source": [
    "import numpy as np\n",
    "import pandas as pd\n",
    "\n",
    "data = {\n",
    "    'DT':['2023-04-01',\n",
    "              '2023-04-02',\n",
    "              '2023-04-03',\n",
    "              '2023-04-04',\n",
    "              '2023-04-05',\n",
    "              '2023-04-06',\n",
    "              '2023-04-07',\n",
    "              '2023-04-08',\n",
    "              '2023-04-09',\n",
    "              '2023-04-10',\n",
    "              '2023-04-11',\n",
    "              '2023-04-12',\n",
    "              '2023-04-13',\n",
    "              '2023-04-14',\n",
    "              '2023-04-15',\n",
    "              '2023-04-16',\n",
    "],\n",
    "    'ТО_НДС': [25169364.54,\n",
    "                   21521028.5,\n",
    "                   13814550.97,\n",
    "                   14480259.59,\n",
    "                   15476963.72,\n",
    "                   17159637.46,\n",
    "                   20067718.12,\n",
    "                   23561023.74,\n",
    "                   20796828.96,\n",
    "                   15358356.79,\n",
    "                   15751239.43,\n",
    "                   16728365.75,\n",
    "                   18108535.1,\n",
    "                   22009678.94,\n",
    "                   24114469.42,\n",
    "                   16630633.81\n",
    "                   ],\n",
    "\n",
    "        }\n",
    "df = pd.DataFrame(data)\n",
    "# df.index = pd.date_range('2023-04-01', periods=df.shape[0], name='DT')\n",
    "# df.index = pd.date_range('2023-04-01', periods=df.shape[0])\n",
    "df"
   ]
  },
  {
   "cell_type": "code",
   "execution_count": 42,
   "outputs": [
    {
     "data": {
      "text/plain": "            DT       ТО_НДС\n0   2023-04-01  25169364.54\n1   2023-04-02  21521028.50\n2   2023-04-03  13814550.97\n3   2023-04-04  14480259.59\n4   2023-04-05  15476963.72\n5   2023-04-06  17159637.46\n6   2023-04-07  20067718.12\n7   2023-04-08  23561023.74\n8   2023-04-09  20796828.96\n9   2023-04-10  15358356.79\n10  2023-04-11  15751239.43\n11  2023-04-12  16728365.75\n12  2023-04-13  18108535.10\n13  2023-04-14  22009678.94\n14  2023-04-15  24114469.42\n15  2023-04-16  16630633.81",
      "text/html": "<div>\n<style scoped>\n    .dataframe tbody tr th:only-of-type {\n        vertical-align: middle;\n    }\n\n    .dataframe tbody tr th {\n        vertical-align: top;\n    }\n\n    .dataframe thead th {\n        text-align: right;\n    }\n</style>\n<table border=\"1\" class=\"dataframe\">\n  <thead>\n    <tr style=\"text-align: right;\">\n      <th></th>\n      <th>DT</th>\n      <th>ТО_НДС</th>\n    </tr>\n  </thead>\n  <tbody>\n    <tr>\n      <th>0</th>\n      <td>2023-04-01</td>\n      <td>25169364.54</td>\n    </tr>\n    <tr>\n      <th>1</th>\n      <td>2023-04-02</td>\n      <td>21521028.50</td>\n    </tr>\n    <tr>\n      <th>2</th>\n      <td>2023-04-03</td>\n      <td>13814550.97</td>\n    </tr>\n    <tr>\n      <th>3</th>\n      <td>2023-04-04</td>\n      <td>14480259.59</td>\n    </tr>\n    <tr>\n      <th>4</th>\n      <td>2023-04-05</td>\n      <td>15476963.72</td>\n    </tr>\n    <tr>\n      <th>5</th>\n      <td>2023-04-06</td>\n      <td>17159637.46</td>\n    </tr>\n    <tr>\n      <th>6</th>\n      <td>2023-04-07</td>\n      <td>20067718.12</td>\n    </tr>\n    <tr>\n      <th>7</th>\n      <td>2023-04-08</td>\n      <td>23561023.74</td>\n    </tr>\n    <tr>\n      <th>8</th>\n      <td>2023-04-09</td>\n      <td>20796828.96</td>\n    </tr>\n    <tr>\n      <th>9</th>\n      <td>2023-04-10</td>\n      <td>15358356.79</td>\n    </tr>\n    <tr>\n      <th>10</th>\n      <td>2023-04-11</td>\n      <td>15751239.43</td>\n    </tr>\n    <tr>\n      <th>11</th>\n      <td>2023-04-12</td>\n      <td>16728365.75</td>\n    </tr>\n    <tr>\n      <th>12</th>\n      <td>2023-04-13</td>\n      <td>18108535.10</td>\n    </tr>\n    <tr>\n      <th>13</th>\n      <td>2023-04-14</td>\n      <td>22009678.94</td>\n    </tr>\n    <tr>\n      <th>14</th>\n      <td>2023-04-15</td>\n      <td>24114469.42</td>\n    </tr>\n    <tr>\n      <th>15</th>\n      <td>2023-04-16</td>\n      <td>16630633.81</td>\n    </tr>\n  </tbody>\n</table>\n</div>"
     },
     "execution_count": 42,
     "metadata": {},
     "output_type": "execute_result"
    }
   ],
   "source": [
    "df.to_csv('forecast_best2',index=False, header=True)\n",
    "df"
   ],
   "metadata": {
    "collapsed": false
   }
  }
 ],
 "metadata": {
  "kernelspec": {
   "display_name": "Python 3",
   "language": "python",
   "name": "python3"
  },
  "language_info": {
   "codemirror_mode": {
    "name": "ipython",
    "version": 2
   },
   "file_extension": ".py",
   "mimetype": "text/x-python",
   "name": "python",
   "nbconvert_exporter": "python",
   "pygments_lexer": "ipython2",
   "version": "2.7.6"
  }
 },
 "nbformat": 4,
 "nbformat_minor": 0
}
